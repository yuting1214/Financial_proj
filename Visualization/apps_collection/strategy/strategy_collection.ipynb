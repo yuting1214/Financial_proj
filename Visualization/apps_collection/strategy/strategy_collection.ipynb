{
 "cells": [
  {
   "cell_type": "code",
   "execution_count": 1,
   "metadata": {},
   "outputs": [],
   "source": [
    "import dash\n",
    "from dash import dcc, html\n",
    "from dash.dependencies import Output, Input\n",
    "import dash_ag_grid as dag\n",
    "import dash_bootstrap_components as dbc\n",
    "import plotly.express as px\n",
    "import pandas as pd\n",
    "import finlab\n",
    "from finlab import data\n",
    "from query.local import Queryer\n",
    "import plotly.graph_objects as go\n",
    "from visual.utils import card_generate, candlestick_plot"
   ]
  },
  {
   "cell_type": "code",
   "execution_count": 2,
   "metadata": {},
   "outputs": [
    {
     "name": "stdout",
     "output_type": "stream",
     "text": [
      "輸入成功!\n"
     ]
    }
   ],
   "source": [
    "# Configuration\n",
    "conn_params = {\n",
    "\"host\" : \"localhost\",\n",
    "\"database\" : \"Fin_proj\",\n",
    "\"user\" : \"postgres\",\n",
    "\"password\" : \"nckumark\"\n",
    "}\n",
    "finlab.login(\"imYEE5zw6nTjQ2NxzJ7ToVfEOYW67YeK4qIigkessdnwkqZuar4dK1e7qYanqoNw#vip_m\")\n"
   ]
  },
  {
   "cell_type": "code",
   "execution_count": 3,
   "metadata": {},
   "outputs": [
    {
     "name": "stdout",
     "output_type": "stream",
     "text": [
      "輸入成功!\n"
     ]
    },
    {
     "name": "stderr",
     "output_type": "stream",
     "text": [
      "WARNING:finlab.data:price:收盤價 -- Daily usage: 2176.3 / 5000 MB\n",
      "WARNING:finlab.data:price:開盤價 -- Daily usage: 2198.9 / 5000 MB\n",
      "WARNING:finlab.data:price:成交股數 -- Daily usage: 2230.5 / 5000 MB\n",
      "WARNING:finlab.data:monthly_revenue:當月營收 -- Daily usage: 2233.8 / 5000 MB\n",
      "WARNING:finlab.data:monthly_revenue:去年同月增減(%) -- Daily usage: 2237.0 / 5000 MB\n",
      "WARNING:finlab.data:monthly_revenue:上月比較增減(%) -- Daily usage: 2240.2 / 5000 MB\n"
     ]
    }
   ],
   "source": [
    "#*** Change these two parts\n",
    "# Plug-in here Strategy\n",
    "    # Data must include open and close for wr_df\n",
    "close = data.get(\"price:收盤價\")\n",
    "open = data.get(\"price:開盤價\")\n",
    "vol = data.get(\"price:成交股數\")\n",
    "vol_ma = vol.average(10)\n",
    "rev = data.get('monthly_revenue:當月營收')\n",
    "rev_year_growth = data.get('monthly_revenue:去年同月增減(%)')\n",
    "rev_month_growth = \tdata.get('monthly_revenue:上月比較增減(%)')\n",
    "# Strategy start here\n",
    "#===================================================================================\n",
    "# 股價創年新高\n",
    "cond1 = (close == close.rolling(250).max())\n",
    "\n",
    "# 排除月營收連3月衰退10%以上\n",
    "cond2 = ~(rev_year_growth < -10).sustain(3) \n",
    "\n",
    "# 排除月營收成長趨勢過老(12個月內有至少8個月單月營收年增率大於60%)\n",
    "cond3 = ~(rev_year_growth > 60).sustain(12,8)\n",
    "\n",
    "# 確認營收底部，近月營收脫離近年谷底(連續3月的\"單月營收近12月最小值/近月營收\" < 0.8)\n",
    "cond4 = ((rev.rolling(12).min())/(rev) < 0.8).sustain(3)\n",
    "\n",
    "# 單月營收月增率連續3月大於-40%\n",
    "cond5 = (rev_month_growth > -40).sustain(3)\n",
    "\n",
    "# 流動性條件\n",
    "cond6 = vol_ma > 200*1000\n",
    "\n",
    "buy = cond1 & cond2  & cond3 & cond4 & cond5 & cond6\n",
    "\n",
    "# 買比較冷門的股票\n",
    "buy = vol_ma*buy\n",
    "buy = buy[buy>0]\n",
    "final_cond = buy.is_smallest(5)\n",
    "#===================================================================================\n",
    "if in_period:\n",
    "    select_cond = final_cond[final_cond.index==start_date]\n",
    "    # Create selection df\n",
    "    select_series = select_cond.apply(lambda x: set(select_cond.columns[x]), axis =1)\n",
    "    select_df = (select_series\n",
    "                .explode()\n",
    "                .reset_index()\n",
    "                .rename(columns={0: \"stock_id\"}))\n",
    "    select_df['strategy_name'] = strategy_name\n",
    "    select_df['select_status'] = True\n",
    "else:\n",
    "    select_df = None\n",
    "# Configuration\n",
    "conn_params = {\n",
    "\"host\" : \"localhost\",\n",
    "\"database\" : \"Fin_proj\",\n",
    "\"user\" : \"postgres\",\n",
    "\"password\" : \"nckumark\"\n",
    "}\n",
    "finlab.login(\"imYEE5zw6nTjQ2NxzJ7ToVfEOYW67YeK4qIigkessdnwkqZuar4dK1e7qYanqoNw#vip_m\")\n",
    "\n",
    "today_date = pd.Timestamp.today().normalize()\n",
    "wr_base_date = pd.Timestamp(year=today_date.year, month=1, day=1) # 01/01/year\n",
    "queryer = Queryer(today_date, conn_params)\n",
    "start_date = queryer.start_date\n",
    "start_date_str = start_date.strftime('%Y/%m/%d')\n",
    "updating_list = updating_period()\n",
    "strategy_name = '藏敖'\n",
    "in_period = start_date in updating_list\n",
    "select_df, wr_df = strategy(strategy_name, start_date, wr_base_date, in_period)"
   ]
  },
  {
   "cell_type": "code",
   "execution_count": 4,
   "metadata": {},
   "outputs": [],
   "source": [
    "select_df"
   ]
  }
 ],
 "metadata": {
  "kernelspec": {
   "display_name": "Python 3",
   "language": "python",
   "name": "python3"
  },
  "language_info": {
   "codemirror_mode": {
    "name": "ipython",
    "version": 3
   },
   "file_extension": ".py",
   "mimetype": "text/x-python",
   "name": "python",
   "nbconvert_exporter": "python",
   "pygments_lexer": "ipython3",
   "version": "3.8.9"
  },
  "orig_nbformat": 4
 },
 "nbformat": 4,
 "nbformat_minor": 2
}
