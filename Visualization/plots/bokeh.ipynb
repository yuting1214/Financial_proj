{
 "cells": [
  {
   "cell_type": "code",
   "execution_count": 1,
   "metadata": {},
   "outputs": [],
   "source": [
    "import pandas as pd\n",
    "from bokeh.models import SingleIntervalTicker, LinearAxis, ColumnDataSource, HoverTool\n",
    "from bokeh.plotting import figure, show\n",
    "from bokeh.sampledata.stocks import MSFT\n",
    "from bokeh.models import LinearAxis, Range1d"
   ]
  },
  {
   "attachments": {},
   "cell_type": "markdown",
   "metadata": {},
   "source": [
    "# Candlestick\n",
    "\n",
    "* Green fall; Red rise"
   ]
  },
  {
   "cell_type": "code",
   "execution_count": 2,
   "metadata": {},
   "outputs": [],
   "source": [
    "df = pd.DataFrame(MSFT)[:60]\n",
    "df[\"date\"] = pd.to_datetime(df[\"date\"])\n",
    "df['volume'] = df['volume'] / 100000000\n",
    "inc = df.close > df.open\n",
    "dec = df.open > df.close\n",
    "inc_data = df[inc]\n",
    "dec_data = df[dec]\n",
    "df_source = ColumnDataSource(df)\n",
    "inc_source = ColumnDataSource(inc_data)\n",
    "dec_source = ColumnDataSource(dec_data)\n",
    "\n",
    "w = 12*60*60*1000 # half day in ms\n",
    "\n",
    "hover = HoverTool(\n",
    "    tooltips=[\n",
    "        (\"date\", \"@date{%Y-%m-%d}\"),\n",
    "        (\"open\", \"@open{0,0.00}\"),\n",
    "        (\"close\", \"@close{0,0.00}\"),\n",
    "        (\"high\", \"@high{0,0.00}\"),\n",
    "        (\"low\", \"@low{0,0.00}\"),\n",
    "        (\"volume\", \"@volume{0,0}\")\n",
    "    ],\n",
    "    formatters={\"@date\": \"datetime\"}\n",
    ")\n",
    "TOOLS = \"pan,wheel_zoom,box_zoom,reset,save\"\n",
    "\n",
    "y_start = float(df['close'].min()) * 0.5\n",
    "y_end = float(df['close'].max()) * 1.05\n",
    "\n",
    "p = figure(x_axis_type=\"datetime\", tools=[hover, \"pan,zoom_in,zoom_out,crosshair,reset,save\"], width=1000, title = \"MSFT Candlestick\",\n",
    "           y_range=(y_start, y_end),\n",
    "           toolbar_location=\"above\" ,y_axis_label=\"price\")\n",
    "#p.xaxis.major_label_orientation = pi/4\n",
    "p.grid.grid_line_alpha=0.3\n",
    "\n",
    "# p.segment(df.date, df.high, df.date, df.low, color=\"black\")\n",
    "# p.vbar(df.date[inc], w, df.open[inc], df.close[inc], fill_color=\"#D5E1DD\", line_color=\"black\")\n",
    "# p.vbar(df.date[dec], w, df.open[dec], df.close[dec], fill_color=\"#F2583E\", line_color=\"black\")\n",
    "\n",
    "p.segment('date', 'high', 'date', 'low', color=\"black\", source=df_source)\n",
    "p.vbar('date', w, 'open', 'close', fill_color=\"#00995c\", line_color=\"black\", source=inc_source)\n",
    "p.vbar('date', w, 'open', 'close', fill_color=\"#eb2409\", line_color=\"black\", source=dec_source) \n",
    "\n",
    "\n",
    "# Set twinx for volume\n",
    "y2_start = float(df['volume'].min()) * 0.95\n",
    "y2_end = float(df['volume'].max()) * 2\n",
    "p.extra_y_ranges = {\"vol\": Range1d(y2_start, y2_end)}\n",
    "p.vbar('date', w, 'volume', y_range_name='vol', color='blue', alpha=0.2, source=df_source)\n",
    "p.add_layout(LinearAxis(y_range_name=\"vol\", axis_label=\"vol\"), 'right')\n",
    "\n",
    "show(p)\n",
    "\n",
    "show(p)"
   ]
  }
 ],
 "metadata": {
  "kernelspec": {
   "display_name": "Python 3",
   "language": "python",
   "name": "python3"
  },
  "language_info": {
   "codemirror_mode": {
    "name": "ipython",
    "version": 3
   },
   "file_extension": ".py",
   "mimetype": "text/x-python",
   "name": "python",
   "nbconvert_exporter": "python",
   "pygments_lexer": "ipython3",
   "version": "3.8.9"
  },
  "orig_nbformat": 4
 },
 "nbformat": 4,
 "nbformat_minor": 2
}
